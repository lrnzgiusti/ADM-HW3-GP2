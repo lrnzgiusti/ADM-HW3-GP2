{
 "cells": [
  {
   "cell_type": "markdown",
   "metadata": {},
   "source": [
    "# Homework 3 - Find the perfect place to stay in Texas!\n",
    "\n",
    "<p align=\"center\">\n",
    "<img src=\"https://hd.tudocdn.net/731085?w=646&h=284\">\n",
    "</p>\n",
    "\n",
    "The homework consists in analyzing the text of Airbnb property listings and building a search engine."
   ]
  },
  {
   "cell_type": "markdown",
   "metadata": {},
   "source": [
    "## Our Solution:\n",
    "We have decided to split the homework part: Engine and Visualization, in order to maximize the readability and apply some design patterns.\n",
    "The engine is a module named __seach_engine.py__ which contains all the classes used to do all the computation nedded. In the module there are three classes:\n",
    "* NLP: This class is responsible to do all the computation for manipulate texts, for better understaning there are the docstirngs inside the methods of this class.\n",
    "* FileHandler: This is responsible to handle all the iteration between files, after all you can do everything only with this module, if you don't have the main csv file, there are many try-catch blocks to handle the dowload of it and proceed without any interrupts.\n",
    "* Miner: This is the [controller](https://it.wikipedia.org/wiki/GRASP#Controller), it's the engine of all the computations. Inside this class there are the main functions to get all the results."
   ]
  },
  {
   "cell_type": "code",
   "execution_count": null,
   "metadata": {},
   "outputs": [],
   "source": []
  }
 ],
 "metadata": {
  "kernelspec": {
   "display_name": "Python 3",
   "language": "python",
   "name": "python3"
  },
  "language_info": {
   "codemirror_mode": {
    "name": "ipython",
    "version": 3
   },
   "file_extension": ".py",
   "mimetype": "text/x-python",
   "name": "python",
   "nbconvert_exporter": "python",
   "pygments_lexer": "ipython3",
   "version": "3.6.6"
  },
  "varInspector": {
   "cols": {
    "lenName": 16,
    "lenType": 16,
    "lenVar": 40
   },
   "kernels_config": {
    "python": {
     "delete_cmd_postfix": "",
     "delete_cmd_prefix": "del ",
     "library": "var_list.py",
     "varRefreshCmd": "print(var_dic_list())"
    },
    "r": {
     "delete_cmd_postfix": ") ",
     "delete_cmd_prefix": "rm(",
     "library": "var_list.r",
     "varRefreshCmd": "cat(var_dic_list()) "
    }
   },
   "types_to_exclude": [
    "module",
    "function",
    "builtin_function_or_method",
    "instance",
    "_Feature"
   ],
   "window_display": false
  }
 },
 "nbformat": 4,
 "nbformat_minor": 2
}
