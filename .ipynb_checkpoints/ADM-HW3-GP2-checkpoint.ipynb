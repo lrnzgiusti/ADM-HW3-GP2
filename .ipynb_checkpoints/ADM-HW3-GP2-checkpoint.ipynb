{
 "cells": [
  {
   "cell_type": "markdown",
   "metadata": {},
   "source": [
    "# Homework 3 - Find the perfect place to stay in Texas!\n",
    "\n",
    "<p align=\"center\">\n",
    "<img src=\"https://hd.tudocdn.net/731085?w=646&h=284\">\n",
    "</p>\n",
    "\n",
    "The homework consists in analyzing the text of Airbnb property listings and building a search engine."
   ]
  },
  {
   "cell_type": "markdown",
   "metadata": {},
   "source": [
    "## Our Solution:\n",
    "We have decided to split the homework part: Engine and Visualization, in order to maximize the readability and apply some design patterns.\n",
    "The engine is a module named __seach_engine.py__ which contains all the classes used to do all the computation nedded. In the module there are three classes:\n",
    "* NLP: This class is responsible to do all the computation for manipulate texts, for better understaning there are the docstirngs inside the methods of this class.\n",
    "* FileHandler: This is responsible to handle all the iteration between files, after all you can do everything only with this module, if you don't have the main csv file, there are many try-catch blocks to handle the dowload of it and proceed without any interrupts.\n",
    "* Miner: This is the [controller](https://it.wikipedia.org/wiki/GRASP#Controller), it's the engine of all the computations. Inside this class there are the main functions to get all the results."
   ]
  },
  {
   "cell_type": "code",
   "execution_count": 1,
   "metadata": {},
   "outputs": [],
   "source": [
    "import search_engine as se"
   ]
  },
  {
   "cell_type": "markdown",
   "metadata": {},
   "source": [
    "## Step 1: Download the data\n",
    "We've decided to write a procedure to download the data automatically and store it in the working directory of the project."
   ]
  },
  {
   "cell_type": "code",
   "execution_count": 2,
   "metadata": {},
   "outputs": [
    {
     "name": "stdout",
     "output_type": "stream",
     "text": [
      "'_download_csv'  0.21 s\n"
     ]
    },
    {
     "data": {
      "text/plain": [
       "'OK'"
      ]
     },
     "execution_count": 2,
     "metadata": {},
     "output_type": "execute_result"
    }
   ],
   "source": [
    "file_handler = se.FileHandler()\n",
    "file_handler._download_csv()"
   ]
  },
  {
   "cell_type": "markdown",
   "metadata": {},
   "source": [
    "## Step 2: Create documents\n",
    "In order to maintain a real view of how works a real seach engine, we've decided to split the documents in two sub-directories: one with the processed tsv files and the other with the raw data."
   ]
  },
  {
   "cell_type": "markdown",
   "metadata": {},
   "source": [
    "### Step 2.1: Create raw_data directory"
   ]
  },
  {
   "cell_type": "code",
   "execution_count": 3,
   "metadata": {},
   "outputs": [
    {
     "name": "stdout",
     "output_type": "stream",
     "text": [
      "'save_raw_docs'  7.19 s\n"
     ]
    },
    {
     "data": {
      "text/plain": [
       "'OK'"
      ]
     },
     "execution_count": 3,
     "metadata": {},
     "output_type": "execute_result"
    }
   ],
   "source": [
    "file_handler.save_raw_docs()"
   ]
  },
  {
   "cell_type": "markdown",
   "metadata": {},
   "source": [
    "### Step 2.2: Create clean_data directory"
   ]
  },
  {
   "cell_type": "code",
   "execution_count": 4,
   "metadata": {},
   "outputs": [
    {
     "name": "stdout",
     "output_type": "stream",
     "text": [
      "'_csv_to_pickle'  0.26 s\n",
      "'_pickle_to_df'  0.04 s\n",
      "'_pickle_to_df'  0.33 s\n",
      "'_csv_to_tsv'  70.05 s\n",
      "'_tsv_to_tsv_docs'  6.79 s\n",
      "'_tsv_to_tsv_docs'  76.83 s\n"
     ]
    },
    {
     "data": {
      "text/plain": [
       "'OK'"
      ]
     },
     "execution_count": 4,
     "metadata": {},
     "output_type": "execute_result"
    }
   ],
   "source": [
    "file_handler._tsv_to_tsv_docs()"
   ]
  },
  {
   "cell_type": "markdown",
   "metadata": {},
   "source": [
    "## Step 3: Search Engine"
   ]
  },
  {
   "cell_type": "markdown",
   "metadata": {},
   "source": [
    "The core of our search engine is contained in the class Miner of the library.\n",
    "Our idea is to build everything in the library and in this notebook put only the I/O so in the background there are many operations for the optimal storage of the results.\n",
    "\n",
    "So we start calling the constructor of the class."
   ]
  },
  {
   "cell_type": "code",
   "execution_count": 5,
   "metadata": {},
   "outputs": [],
   "source": [
    "miner = se.Miner()"
   ]
  },
  {
   "cell_type": "markdown",
   "metadata": {},
   "source": [
    "### Step 3.1 Conjunctive Query"
   ]
  },
  {
   "cell_type": "markdown",
   "metadata": {},
   "source": [
    "#### Step 3.1.1: Build Index & Vocab\n",
    "\n",
    "A good practice is to keep the results inside the class or inside the driver so you can load them again and again without machine effort."
   ]
  },
  {
   "cell_type": "markdown",
   "metadata": {},
   "source": [
    "#### What is the time complexity for building vocabulary and the inverted index.\n",
    "\n",
    "##### Timeit-Vocab:\n",
    "The first outer for-loop run over all documents, given N documents this operation is $\\theta(N)$ so you have to run the corpus of this loop N times, there are not chances to avoid it. \n",
    "The second for-loop, the inner one is for analyze the title and the description, calling M the length of the concatenation of the title and the description the inner loop for building the vocabulary is $\\theta(M)$, and you can't have methods for skip \n",
    "So you have to perform $\\theta(NM)$ operations in order to build the vocabulary.\n",
    "\n",
    "##### Timeit-Inverted-Index:\n",
    "From the time complexity point of view, the algorithm for build the inverted index has the same complexity of the algorithm for building the vocab. The critical part is when you have to insert the element into the dictionary, but, assuming that the python's dictionaries have a good hash function, the time for getting and setting up a <key,value> pair is co so the overall time is $\\theta(NM)$"
   ]
  },
  {
   "cell_type": "code",
   "execution_count": 6,
   "metadata": {},
   "outputs": [
    {
     "name": "stdout",
     "output_type": "stream",
     "text": [
      "'build_vocab'  2.99 s\n"
     ]
    },
    {
     "data": {
      "text/plain": [
       "'OK, vocabulary in the attribute Miner().vocab'"
      ]
     },
     "execution_count": 6,
     "metadata": {},
     "output_type": "execute_result"
    }
   ],
   "source": [
    "miner.build_vocab(save=True)"
   ]
  },
  {
   "cell_type": "code",
   "execution_count": 7,
   "metadata": {},
   "outputs": [
    {
     "name": "stdout",
     "output_type": "stream",
     "text": [
      "'build_inverted_index_normal'  3.89 s\n"
     ]
    },
    {
     "data": {
      "text/plain": [
       "'OK, inverted index set in the attribute Miner().inverted_index_no_tfidf'"
      ]
     },
     "execution_count": 7,
     "metadata": {},
     "output_type": "execute_result"
    }
   ],
   "source": [
    "miner.build_inverted_index_normal(save=True)"
   ]
  },
  {
   "cell_type": "markdown",
   "metadata": {},
   "source": [
    "### Step 3.1.2: Execute the query!\n",
    "\n",
    "##### Timeit:\n",
    "Assuming that the inverted index and the vocab are stored, the time complexity is given by: <br>\n",
    "1) The operations that provide you the final query  <br>\n",
    "2) Getting the documents that contains the query entirely <br>\n",
    "3) The iteration for build up the dataframe with the result <br>\n",
    "\n",
    "For build up the query, you have to enter a string of length N in input and perform the text processing on it (5 operations over all the words of the input string) so the text processing is $O(5\\cdot N)$, the transformation that maps the term to term_id is $O(N)$, so the overall complexity of the query builder process is $O(6 \\cdot N)$. The complexity of getting the documents that contains the entire query is $O(N)$ because you have only to intersect N times the set that is value in the inverted index mapped by the term_id's provided by the query. And finally let M be the documents that contain the entire query the overall complexity of the algorithm that provides you the result of this task is $O(7\\cdot N + M) \\approx O(N+M)$.\n",
    "\n",
    "\n"
   ]
  },
  {
   "cell_type": "code",
   "execution_count": 8,
   "metadata": {},
   "outputs": [
    {
     "name": "stdout",
     "output_type": "stream",
     "text": [
      "Insert your query: brand new luxury house\n",
      "'_query_builder'  0.01 s\n",
      "'_docs_containing_all_the_query'  0.00 s\n",
      "'conjunctive_result'  0.05 s\n"
     ]
    },
    {
     "data": {
      "text/html": [
       "<div>\n",
       "<style scoped>\n",
       "    .dataframe tbody tr th:only-of-type {\n",
       "        vertical-align: middle;\n",
       "    }\n",
       "\n",
       "    .dataframe tbody tr th {\n",
       "        vertical-align: top;\n",
       "    }\n",
       "\n",
       "    .dataframe thead th {\n",
       "        text-align: right;\n",
       "    }\n",
       "</style>\n",
       "<table border=\"1\" class=\"dataframe\">\n",
       "  <thead>\n",
       "    <tr style=\"text-align: right;\">\n",
       "      <th></th>\n",
       "      <th>title</th>\n",
       "      <th>description</th>\n",
       "      <th>city</th>\n",
       "      <th>url</th>\n",
       "    </tr>\n",
       "  </thead>\n",
       "  <tbody>\n",
       "    <tr>\n",
       "      <th>0</th>\n",
       "      <td>Luxury Carriage House-Travis Heights</td>\n",
       "      <td>Welcome to The Hideaway Carriage House, a priv...</td>\n",
       "      <td>Austin</td>\n",
       "      <td>https://www.airbnb.com/rooms/705858?location=C...</td>\n",
       "    </tr>\n",
       "    <tr>\n",
       "      <th>1</th>\n",
       "      <td>Plano Luxury ensuite</td>\n",
       "      <td>Surround yourself in this luxury private resid...</td>\n",
       "      <td>Plano</td>\n",
       "      <td>https://www.airbnb.com/rooms/2637249?location=...</td>\n",
       "    </tr>\n",
       "    <tr>\n",
       "      <th>2</th>\n",
       "      <td>Luxury Carriage House-Travis Heights</td>\n",
       "      <td>Welcome to The Hideaway Carriage House, a priv...</td>\n",
       "      <td>Austin</td>\n",
       "      <td>https://www.airbnb.com/rooms/705858?location=B...</td>\n",
       "    </tr>\n",
       "    <tr>\n",
       "      <th>3</th>\n",
       "      <td>Luxury 5 bedroom. Huge yard. Pool. By Stadium.</td>\n",
       "      <td>Beautiful .53 acre lot with tons of trees and ...</td>\n",
       "      <td>Arlington</td>\n",
       "      <td>https://www.airbnb.com/rooms/13786320?location...</td>\n",
       "    </tr>\n",
       "    <tr>\n",
       "      <th>4</th>\n",
       "      <td>Uptown remodel in 2016 w/Heated Pool, NC location</td>\n",
       "      <td>This Mid-Century home was 100% remodeled in 20...</td>\n",
       "      <td>San Antonio</td>\n",
       "      <td>https://www.airbnb.com/rooms/15982388?location...</td>\n",
       "    </tr>\n",
       "    <tr>\n",
       "      <th>5</th>\n",
       "      <td>Luxury 5 bedroom. Huge yard. Pool. By Stadium.</td>\n",
       "      <td>Beautiful .53 acre lot with tons of trees and ...</td>\n",
       "      <td>Arlington</td>\n",
       "      <td>https://www.airbnb.com/rooms/13786320?location...</td>\n",
       "    </tr>\n",
       "    <tr>\n",
       "      <th>6</th>\n",
       "      <td>Luxurious Peaceful Heights Tree House</td>\n",
       "      <td>Brand new apartment with all the amenities. In...</td>\n",
       "      <td>Houston</td>\n",
       "      <td>https://www.airbnb.com/rooms/18962233?location...</td>\n",
       "    </tr>\n",
       "  </tbody>\n",
       "</table>\n",
       "</div>"
      ],
      "text/plain": [
       "                                               title  \\\n",
       "0               Luxury Carriage House-Travis Heights   \n",
       "1                               Plano Luxury ensuite   \n",
       "2               Luxury Carriage House-Travis Heights   \n",
       "3     Luxury 5 bedroom. Huge yard. Pool. By Stadium.   \n",
       "4  Uptown remodel in 2016 w/Heated Pool, NC location   \n",
       "5     Luxury 5 bedroom. Huge yard. Pool. By Stadium.   \n",
       "6              Luxurious Peaceful Heights Tree House   \n",
       "\n",
       "                                         description         city  \\\n",
       "0  Welcome to The Hideaway Carriage House, a priv...       Austin   \n",
       "1  Surround yourself in this luxury private resid...        Plano   \n",
       "2  Welcome to The Hideaway Carriage House, a priv...       Austin   \n",
       "3  Beautiful .53 acre lot with tons of trees and ...    Arlington   \n",
       "4  This Mid-Century home was 100% remodeled in 20...  San Antonio   \n",
       "5  Beautiful .53 acre lot with tons of trees and ...    Arlington   \n",
       "6  Brand new apartment with all the amenities. In...      Houston   \n",
       "\n",
       "                                                 url  \n",
       "0  https://www.airbnb.com/rooms/705858?location=C...  \n",
       "1  https://www.airbnb.com/rooms/2637249?location=...  \n",
       "2  https://www.airbnb.com/rooms/705858?location=B...  \n",
       "3  https://www.airbnb.com/rooms/13786320?location...  \n",
       "4  https://www.airbnb.com/rooms/15982388?location...  \n",
       "5  https://www.airbnb.com/rooms/13786320?location...  \n",
       "6  https://www.airbnb.com/rooms/18962233?location...  "
      ]
     },
     "execution_count": 8,
     "metadata": {},
     "output_type": "execute_result"
    }
   ],
   "source": [
    "conjunct_result = miner.conjunctive_result()\n",
    "conjunct_result[['title', 'description', 'city', 'url']]"
   ]
  },
  {
   "cell_type": "markdown",
   "metadata": {},
   "source": [
    "## Step 3.2: Conjunctive query & Ranking score\n",
    "\n",
    "In the next chunk we simply do the same things we did before but now, instead of the documents as values of the dictionary, we have the TF_IDF's of the term *j* in the document *i*."
   ]
  },
  {
   "cell_type": "markdown",
   "metadata": {},
   "source": [
    "### Step 3.2.1: Build the TFIDF inverted index"
   ]
  },
  {
   "cell_type": "code",
   "execution_count": 9,
   "metadata": {},
   "outputs": [
    {
     "name": "stdout",
     "output_type": "stream",
     "text": [
      "'TF'  3.52 s\n",
      "'_load_inverted_index_no_tfidf'  0.25 s\n",
      "'IDF'  0.01 s\n",
      "'TFIDF'  6.79 s\n"
     ]
    }
   ],
   "source": [
    "miner.TFIDF(save=True)"
   ]
  },
  {
   "cell_type": "markdown",
   "metadata": {},
   "source": [
    "### Step 3.2.2.: Execute the query!\n",
    "\n",
    "For building the results we load the results of the documents that contain all the query and then run the cosine distance between the document and the query. After that, we run a k-max hepify sort for extract the first k houses in semi linear time $O(n + k\\cdot log(n))$"
   ]
  },
  {
   "cell_type": "code",
   "execution_count": 10,
   "metadata": {},
   "outputs": [
    {
     "name": "stdout",
     "output_type": "stream",
     "text": [
      "Insert your query: brand new luxury house\n",
      "'_query_builder'  0.01 s\n",
      "'_docs_containing_all_the_query'  0.00 s\n",
      "'_cosine_dist_one'  0.00 s\n",
      "'_cosine_dist_one'  0.00 s\n",
      "'_cosine_dist_one'  0.00 s\n",
      "'_cosine_dist_one'  0.00 s\n",
      "'_cosine_dist_one'  0.00 s\n",
      "'_cosine_dist_one'  0.00 s\n",
      "'_cosine_dist_one'  0.00 s\n",
      "'cosine_dist_all'  0.00 s\n",
      "'heapify'  0.00 s\n",
      "'conjunct_ranking_result'  0.06 s\n"
     ]
    },
    {
     "data": {
      "text/html": [
       "<div>\n",
       "<style scoped>\n",
       "    .dataframe tbody tr th:only-of-type {\n",
       "        vertical-align: middle;\n",
       "    }\n",
       "\n",
       "    .dataframe tbody tr th {\n",
       "        vertical-align: top;\n",
       "    }\n",
       "\n",
       "    .dataframe thead th {\n",
       "        text-align: right;\n",
       "    }\n",
       "</style>\n",
       "<table border=\"1\" class=\"dataframe\">\n",
       "  <thead>\n",
       "    <tr style=\"text-align: right;\">\n",
       "      <th></th>\n",
       "      <th>city</th>\n",
       "      <th>description</th>\n",
       "      <th>score</th>\n",
       "      <th>title</th>\n",
       "      <th>url</th>\n",
       "    </tr>\n",
       "  </thead>\n",
       "  <tbody>\n",
       "    <tr>\n",
       "      <th>0</th>\n",
       "      <td>Houston</td>\n",
       "      <td>Brand new apartment with all the amenities. In...</td>\n",
       "      <td>0.975532</td>\n",
       "      <td>Luxurious Peaceful Heights Tree House</td>\n",
       "      <td>https://www.airbnb.com/rooms/18962233?location...</td>\n",
       "    </tr>\n",
       "    <tr>\n",
       "      <th>1</th>\n",
       "      <td>San Antonio</td>\n",
       "      <td>This Mid-Century home was 100% remodeled in 20...</td>\n",
       "      <td>0.975532</td>\n",
       "      <td>Uptown remodel in 2016 w/Heated Pool, NC location</td>\n",
       "      <td>https://www.airbnb.com/rooms/15982388?location...</td>\n",
       "    </tr>\n",
       "    <tr>\n",
       "      <th>2</th>\n",
       "      <td>Arlington</td>\n",
       "      <td>Beautiful .53 acre lot with tons of trees and ...</td>\n",
       "      <td>0.874813</td>\n",
       "      <td>Luxury 5 bedroom. Huge yard. Pool. By Stadium.</td>\n",
       "      <td>https://www.airbnb.com/rooms/13786320?location...</td>\n",
       "    </tr>\n",
       "    <tr>\n",
       "      <th>3</th>\n",
       "      <td>Arlington</td>\n",
       "      <td>Beautiful .53 acre lot with tons of trees and ...</td>\n",
       "      <td>0.874813</td>\n",
       "      <td>Luxury 5 bedroom. Huge yard. Pool. By Stadium.</td>\n",
       "      <td>https://www.airbnb.com/rooms/13786320?location...</td>\n",
       "    </tr>\n",
       "    <tr>\n",
       "      <th>4</th>\n",
       "      <td>Plano</td>\n",
       "      <td>Surround yourself in this luxury private resid...</td>\n",
       "      <td>0.851552</td>\n",
       "      <td>Plano Luxury ensuite</td>\n",
       "      <td>https://www.airbnb.com/rooms/2637249?location=...</td>\n",
       "    </tr>\n",
       "    <tr>\n",
       "      <th>5</th>\n",
       "      <td>Austin</td>\n",
       "      <td>Welcome to The Hideaway Carriage House, a priv...</td>\n",
       "      <td>0.818780</td>\n",
       "      <td>Luxury Carriage House-Travis Heights</td>\n",
       "      <td>https://www.airbnb.com/rooms/705858?location=C...</td>\n",
       "    </tr>\n",
       "    <tr>\n",
       "      <th>6</th>\n",
       "      <td>Austin</td>\n",
       "      <td>Welcome to The Hideaway Carriage House, a priv...</td>\n",
       "      <td>0.818780</td>\n",
       "      <td>Luxury Carriage House-Travis Heights</td>\n",
       "      <td>https://www.airbnb.com/rooms/705858?location=B...</td>\n",
       "    </tr>\n",
       "  </tbody>\n",
       "</table>\n",
       "</div>"
      ],
      "text/plain": [
       "          city                                        description     score  \\\n",
       "0      Houston  Brand new apartment with all the amenities. In...  0.975532   \n",
       "1  San Antonio  This Mid-Century home was 100% remodeled in 20...  0.975532   \n",
       "2    Arlington  Beautiful .53 acre lot with tons of trees and ...  0.874813   \n",
       "3    Arlington  Beautiful .53 acre lot with tons of trees and ...  0.874813   \n",
       "4        Plano  Surround yourself in this luxury private resid...  0.851552   \n",
       "5       Austin  Welcome to The Hideaway Carriage House, a priv...  0.818780   \n",
       "6       Austin  Welcome to The Hideaway Carriage House, a priv...  0.818780   \n",
       "\n",
       "                                               title  \\\n",
       "0              Luxurious Peaceful Heights Tree House   \n",
       "1  Uptown remodel in 2016 w/Heated Pool, NC location   \n",
       "2     Luxury 5 bedroom. Huge yard. Pool. By Stadium.   \n",
       "3     Luxury 5 bedroom. Huge yard. Pool. By Stadium.   \n",
       "4                               Plano Luxury ensuite   \n",
       "5               Luxury Carriage House-Travis Heights   \n",
       "6               Luxury Carriage House-Travis Heights   \n",
       "\n",
       "                                                 url  \n",
       "0  https://www.airbnb.com/rooms/18962233?location...  \n",
       "1  https://www.airbnb.com/rooms/15982388?location...  \n",
       "2  https://www.airbnb.com/rooms/13786320?location...  \n",
       "3  https://www.airbnb.com/rooms/13786320?location...  \n",
       "4  https://www.airbnb.com/rooms/2637249?location=...  \n",
       "5  https://www.airbnb.com/rooms/705858?location=C...  \n",
       "6  https://www.airbnb.com/rooms/705858?location=B...  "
      ]
     },
     "execution_count": 10,
     "metadata": {},
     "output_type": "execute_result"
    }
   ],
   "source": [
    "df = miner.conjunct_ranking_result()\n",
    "df"
   ]
  },
  {
   "cell_type": "markdown",
   "metadata": {},
   "source": [
    "## Step 4: Define a new score!\n",
    "\n",
    "We've noticed that the best score is when you actually match what you actually want and you are not penalized if you pay less for the house that you are interested in, with a specific location\n",
    "\n",
    "Let's go into the math of our score:\n",
    "\n",
    "$price\\_score(x,k) = min\\{\\frac{k-log(x)}{k}, \\frac{k-log(x)}{x}\\} $ <br> <br>\n",
    "$room\\_score(x,k) = min\\{\\frac{x}{k}, \\frac{k}{x}\\}$ <br><br>\n",
    "$distance\\_score(*args) = 1 - \\frac{geopy.distance(current\\_coords, favourite\\_city\\_coords)}{1298}$\n",
    "\n",
    "The value 1298 is the distance in kilometers between the two farest point in texas, this is because we want that the right part is between 0 and 1 for each point we pick in texas."
   ]
  },
  {
   "cell_type": "code",
   "execution_count": 11,
   "metadata": {},
   "outputs": [
    {
     "name": "stdout",
     "output_type": "stream",
     "text": [
      "Insert your query: brand new luxury house\n",
      "'_query_builder'  0.01 s\n",
      "'_docs_containing_all_the_query'  0.00 s\n",
      "'conjunctive_result'  0.05 s\n",
      "What price you want?100\n",
      "Hou many rooms you want?3\n",
      "In which city you would stay?Houston\n",
      "'_score'  0.00 s\n",
      "'_score'  0.00 s\n",
      "'_score'  0.00 s\n",
      "'_score'  0.00 s\n",
      "'_score'  0.00 s\n",
      "'_score'  0.00 s\n",
      "'_score'  0.00 s\n",
      "'get_all_scores'  0.08 s\n"
     ]
    },
    {
     "data": {
      "text/html": [
       "<div>\n",
       "<style scoped>\n",
       "    .dataframe tbody tr th:only-of-type {\n",
       "        vertical-align: middle;\n",
       "    }\n",
       "\n",
       "    .dataframe tbody tr th {\n",
       "        vertical-align: top;\n",
       "    }\n",
       "\n",
       "    .dataframe thead th {\n",
       "        text-align: right;\n",
       "    }\n",
       "</style>\n",
       "<table border=\"1\" class=\"dataframe\">\n",
       "  <thead>\n",
       "    <tr style=\"text-align: right;\">\n",
       "      <th></th>\n",
       "      <th>title</th>\n",
       "      <th>description</th>\n",
       "      <th>city</th>\n",
       "      <th>url</th>\n",
       "      <th>score</th>\n",
       "    </tr>\n",
       "  </thead>\n",
       "  <tbody>\n",
       "    <tr>\n",
       "      <th>6</th>\n",
       "      <td>Luxurious Peaceful Heights Tree House</td>\n",
       "      <td>Brand new apartment with all the amenities. In...</td>\n",
       "      <td>Houston</td>\n",
       "      <td>https://www.airbnb.com/rooms/18962233?location...</td>\n",
       "      <td>0.761313</td>\n",
       "    </tr>\n",
       "    <tr>\n",
       "      <th>4</th>\n",
       "      <td>Uptown remodel in 2016 w/Heated Pool, NC location</td>\n",
       "      <td>This Mid-Century home was 100% remodeled in 20...</td>\n",
       "      <td>San Antonio</td>\n",
       "      <td>https://www.airbnb.com/rooms/15982388?location...</td>\n",
       "      <td>0.686482</td>\n",
       "    </tr>\n",
       "    <tr>\n",
       "      <th>1</th>\n",
       "      <td>Plano Luxury ensuite</td>\n",
       "      <td>Surround yourself in this luxury private resid...</td>\n",
       "      <td>Plano</td>\n",
       "      <td>https://www.airbnb.com/rooms/2637249?location=...</td>\n",
       "      <td>0.665884</td>\n",
       "    </tr>\n",
       "    <tr>\n",
       "      <th>0</th>\n",
       "      <td>Luxury Carriage House-Travis Heights</td>\n",
       "      <td>Welcome to The Hideaway Carriage House, a priv...</td>\n",
       "      <td>Austin</td>\n",
       "      <td>https://www.airbnb.com/rooms/705858?location=C...</td>\n",
       "      <td>0.576681</td>\n",
       "    </tr>\n",
       "    <tr>\n",
       "      <th>2</th>\n",
       "      <td>Luxury Carriage House-Travis Heights</td>\n",
       "      <td>Welcome to The Hideaway Carriage House, a priv...</td>\n",
       "      <td>Austin</td>\n",
       "      <td>https://www.airbnb.com/rooms/705858?location=B...</td>\n",
       "      <td>0.576681</td>\n",
       "    </tr>\n",
       "    <tr>\n",
       "      <th>3</th>\n",
       "      <td>Luxury 5 bedroom. Huge yard. Pool. By Stadium.</td>\n",
       "      <td>Beautiful .53 acre lot with tons of trees and ...</td>\n",
       "      <td>Arlington</td>\n",
       "      <td>https://www.airbnb.com/rooms/13786320?location...</td>\n",
       "      <td>0.482175</td>\n",
       "    </tr>\n",
       "    <tr>\n",
       "      <th>5</th>\n",
       "      <td>Luxury 5 bedroom. Huge yard. Pool. By Stadium.</td>\n",
       "      <td>Beautiful .53 acre lot with tons of trees and ...</td>\n",
       "      <td>Arlington</td>\n",
       "      <td>https://www.airbnb.com/rooms/13786320?location...</td>\n",
       "      <td>0.482175</td>\n",
       "    </tr>\n",
       "  </tbody>\n",
       "</table>\n",
       "</div>"
      ],
      "text/plain": [
       "                                               title  \\\n",
       "6              Luxurious Peaceful Heights Tree House   \n",
       "4  Uptown remodel in 2016 w/Heated Pool, NC location   \n",
       "1                               Plano Luxury ensuite   \n",
       "0               Luxury Carriage House-Travis Heights   \n",
       "2               Luxury Carriage House-Travis Heights   \n",
       "3     Luxury 5 bedroom. Huge yard. Pool. By Stadium.   \n",
       "5     Luxury 5 bedroom. Huge yard. Pool. By Stadium.   \n",
       "\n",
       "                                         description         city  \\\n",
       "6  Brand new apartment with all the amenities. In...      Houston   \n",
       "4  This Mid-Century home was 100% remodeled in 20...  San Antonio   \n",
       "1  Surround yourself in this luxury private resid...        Plano   \n",
       "0  Welcome to The Hideaway Carriage House, a priv...       Austin   \n",
       "2  Welcome to The Hideaway Carriage House, a priv...       Austin   \n",
       "3  Beautiful .53 acre lot with tons of trees and ...    Arlington   \n",
       "5  Beautiful .53 acre lot with tons of trees and ...    Arlington   \n",
       "\n",
       "                                                 url     score  \n",
       "6  https://www.airbnb.com/rooms/18962233?location...  0.761313  \n",
       "4  https://www.airbnb.com/rooms/15982388?location...  0.686482  \n",
       "1  https://www.airbnb.com/rooms/2637249?location=...  0.665884  \n",
       "0  https://www.airbnb.com/rooms/705858?location=C...  0.576681  \n",
       "2  https://www.airbnb.com/rooms/705858?location=B...  0.576681  \n",
       "3  https://www.airbnb.com/rooms/13786320?location...  0.482175  \n",
       "5  https://www.airbnb.com/rooms/13786320?location...  0.482175  "
      ]
     },
     "execution_count": 11,
     "metadata": {},
     "output_type": "execute_result"
    }
   ],
   "source": [
    "df = miner.get_all_scores().sort_values('score', ascending=False)\n",
    "df[['title', 'description', 'city', 'url', 'score']]"
   ]
  },
  {
   "cell_type": "markdown",
   "metadata": {},
   "source": [
    "## Bonus Step: Make a nice visualization!"
   ]
  },
  {
   "cell_type": "code",
   "execution_count": 12,
   "metadata": {},
   "outputs": [],
   "source": [
    "import pandas as pd\n",
    "import folium\n",
    "from geopy import distance"
   ]
  },
  {
   "cell_type": "markdown",
   "metadata": {},
   "source": [
    "### User inputs\n",
    "We take the coordinates we're interested in for centering the map, in this specific case we use the coordinates of the NASA's launch base in Houston, TX; 5 kilometers for the radius"
   ]
  },
  {
   "cell_type": "code",
   "execution_count": 13,
   "metadata": {},
   "outputs": [
    {
     "name": "stdout",
     "output_type": "stream",
     "text": [
      "coordinate(y, x): 29.5645716 -95.092752953515\n",
      "Enter the radius you are interested in: 5\n"
     ]
    }
   ],
   "source": [
    "user_coords = input(\"coordinate(y, x): \").split()  #geting user coordinates 29.5645716 -95.092752953515 -> nasa\n",
    "user_coords = [float(i) for i in user_coords]\n",
    "radius = float(input(\"Enter the radius you are interested in: \"))"
   ]
  },
  {
   "cell_type": "code",
   "execution_count": 14,
   "metadata": {},
   "outputs": [
    {
     "data": {
      "text/html": [
       "<div>\n",
       "<style scoped>\n",
       "    .dataframe tbody tr th:only-of-type {\n",
       "        vertical-align: middle;\n",
       "    }\n",
       "\n",
       "    .dataframe tbody tr th {\n",
       "        vertical-align: top;\n",
       "    }\n",
       "\n",
       "    .dataframe thead th {\n",
       "        text-align: right;\n",
       "    }\n",
       "</style>\n",
       "<table border=\"1\" class=\"dataframe\">\n",
       "  <thead>\n",
       "    <tr style=\"text-align: right;\">\n",
       "      <th></th>\n",
       "      <th>latitude</th>\n",
       "      <th>longitude</th>\n",
       "    </tr>\n",
       "  </thead>\n",
       "  <tbody>\n",
       "    <tr>\n",
       "      <th>0</th>\n",
       "      <td>30.020138</td>\n",
       "      <td>-95.293996</td>\n",
       "    </tr>\n",
       "    <tr>\n",
       "      <th>1</th>\n",
       "      <td>29.503068</td>\n",
       "      <td>-98.447688</td>\n",
       "    </tr>\n",
       "    <tr>\n",
       "      <th>2</th>\n",
       "      <td>29.829352</td>\n",
       "      <td>-95.081549</td>\n",
       "    </tr>\n",
       "    <tr>\n",
       "      <th>3</th>\n",
       "      <td>30.637304</td>\n",
       "      <td>-96.337846</td>\n",
       "    </tr>\n",
       "    <tr>\n",
       "      <th>4</th>\n",
       "      <td>32.747097</td>\n",
       "      <td>-97.286434</td>\n",
       "    </tr>\n",
       "    <tr>\n",
       "      <th>5</th>\n",
       "      <td>30.370455</td>\n",
       "      <td>-95.385319</td>\n",
       "    </tr>\n",
       "    <tr>\n",
       "      <th>6</th>\n",
       "      <td>30.109838</td>\n",
       "      <td>-97.473417</td>\n",
       "    </tr>\n",
       "    <tr>\n",
       "      <th>7</th>\n",
       "      <td>32.689611</td>\n",
       "      <td>-97.298161</td>\n",
       "    </tr>\n",
       "    <tr>\n",
       "      <th>8</th>\n",
       "      <td>28.103726</td>\n",
       "      <td>-97.025832</td>\n",
       "    </tr>\n",
       "    <tr>\n",
       "      <th>9</th>\n",
       "      <td>29.480646</td>\n",
       "      <td>-98.495692</td>\n",
       "    </tr>\n",
       "  </tbody>\n",
       "</table>\n",
       "</div>"
      ],
      "text/plain": [
       "    latitude  longitude\n",
       "0  30.020138 -95.293996\n",
       "1  29.503068 -98.447688\n",
       "2  29.829352 -95.081549\n",
       "3  30.637304 -96.337846\n",
       "4  32.747097 -97.286434\n",
       "5  30.370455 -95.385319\n",
       "6  30.109838 -97.473417\n",
       "7  32.689611 -97.298161\n",
       "8  28.103726 -97.025832\n",
       "9  29.480646 -98.495692"
      ]
     },
     "execution_count": 14,
     "metadata": {},
     "output_type": "execute_result"
    }
   ],
   "source": [
    "df=pd.read_csv(\"airbnb.csv\", usecols=['latitude','longitude']) #selecting the two important columns\n",
    "df = df.dropna() # removing Nan values, since we have to calculate the distances\n",
    "df.head(10) #just for looking through the first 10 rows of our data frame"
   ]
  },
  {
   "cell_type": "markdown",
   "metadata": {},
   "source": [
    "Now we want to transform the coordinates of the rooms in the dataset in a list in order to calculate the distance, we could have used the __.apply__ over the dataframe with a lambda inside, but for more readability we run the algorithm over a list."
   ]
  },
  {
   "cell_type": "code",
   "execution_count": 15,
   "metadata": {},
   "outputs": [
    {
     "data": {
      "text/plain": [
       "[[30.0201379199512, -95.29399600425128],\n",
       " [29.503067675606104, -98.4476879378504],\n",
       " [29.829352227214898, -95.0815494887563],\n",
       " [30.6373042787676, -96.33784597296308],\n",
       " [32.7470973543511, -97.2864343970125]]"
      ]
     },
     "execution_count": 15,
     "metadata": {},
     "output_type": "execute_result"
    }
   ],
   "source": [
    "#creating a nested list containing latitudes and alongitudes for each house\n",
    "temp=[]\n",
    "for index, data in df.iterrows():         \n",
    "    temp.append(data.tolist())\n",
    "temp[:5]"
   ]
  },
  {
   "cell_type": "code",
   "execution_count": 16,
   "metadata": {},
   "outputs": [
    {
     "data": {
      "text/plain": [
       "[54.11787019501391,\n",
       " 325.2675671974499,\n",
       " 29.370251612436505,\n",
       " 168.94753325670953,\n",
       " 410.1592584098694]"
      ]
     },
     "execution_count": 16,
     "metadata": {},
     "output_type": "execute_result"
    }
   ],
   "source": [
    "#calculating distances for each house coordinate from the given user coordinates\n",
    "#we have used geodesic distance instead of Great-circle distance\n",
    "#and also we have choosed kilometers instead of miles in geodesic distance\n",
    "distances = [distance.distance(user_coords, elem).km for elem in temp]\n",
    "distances[0:5]"
   ]
  },
  {
   "cell_type": "markdown",
   "metadata": {},
   "source": [
    "### Map Building\n",
    "\n",
    "The core is inside the for loop, if we match a distance that is in the input range we put a marker in the map."
   ]
  },
  {
   "cell_type": "code",
   "execution_count": 17,
   "metadata": {},
   "outputs": [],
   "source": [
    "m = folium.Map(\n",
    "    location=user_coords,      #creating a base map using user coordinates\n",
    "    tiles='OpenStreetMap',\n",
    "    zoom_start=13\n",
    ")\n",
    "\n",
    "folium.Circle(\n",
    "    radius=radius*1e3,\n",
    "    location=user_coords,      # creating a circle based on the user coordinates\n",
    "                               # we have choosed folium.Circle instead of folium.CircleMarker \n",
    "                               # since it reflects radii in units of meters not pixels\n",
    "    color='green',\n",
    "    fill=True,\n",
    ").add_to(m)\n",
    "\n",
    "folium.Marker(\n",
    "    location=user_coords,\n",
    "    popup='Current User Location',      # creating marker\n",
    "    icon=folium.Icon(icon='info-sign')\n",
    ").add_to(m)\n",
    "\n",
    "\n",
    "for i in range(len(distances)):\n",
    "    if distances[i]<=radius:     #showing houses in the given redius\n",
    "            \n",
    "        folium.Marker(\n",
    "        temp[i],\n",
    "        popup='House'\n",
    "        ).add_to(m)"
   ]
  },
  {
   "cell_type": "markdown",
   "metadata": {},
   "source": [
    "## Appendix A: What is behind our score function"
   ]
  },
  {
   "cell_type": "code",
   "execution_count": 9,
   "metadata": {},
   "outputs": [],
   "source": [
    "import matplotlib.pyplot as plt\n",
    "import numpy as np\n",
    "from math import log\n",
    "from mpl_toolkits.mplot3d import Axes3D                                 \n",
    "from matplotlib import cm\n",
    "from matplotlib.ticker import LinearLocator                                "
   ]
  },
  {
   "cell_type": "code",
   "execution_count": 18,
   "metadata": {},
   "outputs": [],
   "source": [
    "def price_getter(actual_price, max_price):\n",
    "    return min((max_price-log(actual_price))/actual_price, (max_price-log(actual_price))/max_price)\n",
    "            \n",
    "def rooms_getter(actual_room_number, max_room_number):\n",
    "    return min(actual_room_number/max_room_number, max_room_number/actual_room_number)"
   ]
  },
  {
   "cell_type": "code",
   "execution_count": 19,
   "metadata": {},
   "outputs": [
    {
     "data": {
      "image/png": "[encoded data removed]",
      "text/plain": [
       "<Figure size 432x288 with 1 Axes>"
      ]
     },
     "metadata": {
      "needs_background": "light"
     },
     "output_type": "display_data"
    }
   ],
   "source": [
    "x = np.arange(1, 250, .5)\n",
    "price_getter = np.vectorize(price_getter)\n",
    "y = price_getter(x, 50)\n",
    "plt.scatter(x,y, c=x, cmap=cm.viridis)\n",
    "plt.xlabel('Average price per night')\n",
    "plt.ylabel('Score')\n",
    "plt.title('Score given with max_price = 50')\n",
    "plt.show()"
   ]
  },
  {
   "cell_type": "code",
   "execution_count": 4,
   "metadata": {},
   "outputs": [
    {
     "data": {
      "image/png": "[encoded data removed]",
      "text/plain": [
       "<Figure size 432x288 with 1 Axes>"
      ]
     },
     "metadata": {
      "needs_background": "light"
     },
     "output_type": "display_data"
    }
   ],
   "source": [
    "x = np.arange(1, 50, 0.5)\n",
    "rooms_getter = np.vectorize(rooms_getter)\n",
    "y = rooms_getter(x, 10)\n",
    "plt.scatter(x,y, c=x, cmap=cm.magma)\n",
    "plt.xlabel('Rooms')\n",
    "plt.ylabel('Score')\n",
    "plt.title('Score given with max_rooms = 10')\n",
    "plt.show()"
   ]
  },
  {
   "cell_type": "markdown",
   "metadata": {},
   "source": [
    "For the score given by the distance, the score is a simple inverse linear function, so we found that's useless to give a plot."
   ]
  },
  {
   "cell_type": "code",
   "execution_count": 7,
   "metadata": {},
   "outputs": [
    {
     "data": {
      "image/png": "[encoded data removed]",
      "text/plain": [
       "<Figure size 432x288 with 1 Axes>"
      ]
     },
     "metadata": {
      "needs_background": "light"
     },
     "output_type": "display_data"
    }
   ],
   "source": [
    "x = np.arange(1,250,1)\n",
    "xlen = len(x)\n",
    "y = np.arange(1,50,1)\n",
    "ylen = len(y)\n",
    "x,y = np.meshgrid(x,y)\n",
    "z = (price_getter(x, 50)+rooms_getter(y, 10))/2\n",
    "\n",
    "fig = plt.figure()\n",
    "ax = fig.gca(projection = '3d')\n",
    "surf = ax.plot_surface(x,y,z, cmap=cm.viridis)\n",
    "ax.set_zlim(0,1)\n",
    "plt.xlabel('Prices')\n",
    "plt.ylabel('Rooms')\n",
    "plt.title('Score function with max_price=50, max_rooms=10')\n",
    "ax.w_zaxis.set_major_locator(LinearLocator(6))                \n",
    "plt.show()"
   ]
  },
  {
   "cell_type": "markdown",
   "metadata": {},
   "source": [
    "In theory is a 4D plot but, for the sake of visualization we decided to plot only the significal functions."
   ]
  },
  {
   "cell_type": "markdown",
   "metadata": {},
   "source": [
    "## Appendix B: What is $\\theta$($\\cdot$)\n",
    "\n",
    "For a brief introduction to the $\\theta$ analysis we want to explain what is done with the siplest example you can imagine: __THE SUM!__"
   ]
  },
  {
   "cell_type": "markdown",
   "metadata": {},
   "source": [
    "Imagine you have to sum up N numbers that are contained in an arbitrary collection."
   ]
  },
  {
   "cell_type": "code",
   "execution_count": 6,
   "metadata": {},
   "outputs": [
    {
     "name": "stdout",
     "output_type": "stream",
     "text": [
      "33\n"
     ]
    }
   ],
   "source": [
    "values = [5,2,7,9,3,2,5]\n",
    "sum_of_values = 0\n",
    "for value in values:\n",
    "    sum_of_values += value\n",
    "    \n",
    "print(sum_of_values)"
   ]
  },
  {
   "cell_type": "markdown",
   "metadata": {},
   "source": [
    "The important thing to say is that the __best__ algorithm to sum up N elements is __at most__ O(c$\\cdot$N) for any costant c inside the natural numbers. Another important (essential for $\\theta$ analysis) thing to notice is that for this algorithm you have to perform __at least__ $\\Omega$(c'$\\cdot$N) operation for any c' in the natural numbers. When $\\Omega$($\\cdot$) is equal to O($\\cdot$) modulo the constants you can say that your algorithm is $\\theta$($\\cdot$)."
   ]
  },
  {
   "cell_type": "markdown",
   "metadata": {},
   "source": [
    "## $\\theta(\\cdot)$ exist always?"
   ]
  },
  {
   "cell_type": "markdown",
   "metadata": {},
   "source": [
    "Imagine another time the sum of N numbers inside a collection but now with a little change. We insert an if condition inside the loop so it can break the cycle if the condition is verified."
   ]
  },
  {
   "cell_type": "code",
   "execution_count": 14,
   "metadata": {},
   "outputs": [
    {
     "name": "stdout",
     "output_type": "stream",
     "text": [
      "10\n",
      "46\n"
     ]
    }
   ],
   "source": [
    "values = [1,2,3,4,-4,6,7,8,9,10]\n",
    "sum_of_values = 0\n",
    "for value in values:\n",
    "    if value < 0:\n",
    "        break\n",
    "    else:\n",
    "        sum_of_values += value\n",
    "    \n",
    "print(sum_of_values)\n",
    "print(sum(values))"
   ]
  },
  {
   "cell_type": "markdown",
   "metadata": {},
   "source": [
    "The sums are different! This happen because the cycle was stopped by the if condition and it performed only 4 sums out of 10. The \"best\" case scenario is when it stops at the fist element of the collection and the operations performed are $\\Omega$(c') and the worst case scenario is O(c$\\cdot$N) as usual. Since $\\Omega$(c') $\\neq$ O(c$\\cdot$N), it makes no sense to define a $\\theta(\\cdot)$ for this algorithm."
   ]
  },
  {
   "cell_type": "code",
   "execution_count": null,
   "metadata": {},
   "outputs": [],
   "source": []
  }
 ],
 "metadata": {
  "kernelspec": {
   "display_name": "Python 3",
   "language": "python",
   "name": "python3"
  },
  "language_info": {
   "codemirror_mode": {
    "name": "ipython",
    "version": 3
   },
   "file_extension": ".py",
   "mimetype": "text/x-python",
   "name": "python",
   "nbconvert_exporter": "python",
   "pygments_lexer": "ipython3",
   "version": "3.6.6"
  },
  "varInspector": {
   "cols": {
    "lenName": 16,
    "lenType": 16,
    "lenVar": 40
   },
   "kernels_config": {
    "python": {
     "delete_cmd_postfix": "",
     "delete_cmd_prefix": "del ",
     "library": "var_list.py",
     "varRefreshCmd": "print(var_dic_list())"
    },
    "r": {
     "delete_cmd_postfix": ") ",
     "delete_cmd_prefix": "rm(",
     "library": "var_list.r",
     "varRefreshCmd": "cat(var_dic_list()) "
    }
   },
   "types_to_exclude": [
    "module",
    "function",
    "builtin_function_or_method",
    "instance",
    "_Feature"
   ],
   "window_display": false
  }
 },
 "nbformat": 4,
 "nbformat_minor": 2
}
